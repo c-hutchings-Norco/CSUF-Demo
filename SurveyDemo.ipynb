{
 "cells": [
  {
   "cell_type": "markdown",
   "id": "3dc3fa35-655b-4280-af06-1ce59018da7f",
   "metadata": {},
   "source": [
    "## Visualization Demonstration"
   ]
  },
  {
   "cell_type": "markdown",
   "id": "0bf5167e-317f-4a55-b359-a56c82a39c52",
   "metadata": {},
   "source": [
    "### Set up environment\n",
    "Call in libraries we will use this semester"
   ]
  },
  {
   "cell_type": "code",
   "execution_count": null,
   "id": "5866a96c-0aaf-4a06-9527-7e3f8ce4f2cf",
   "metadata": {},
   "outputs": [],
   "source": [
    "from datascience import *\n",
    "import matplotlib.pyplot as plt\n",
    "\n",
    "%matplotlib inline"
   ]
  },
  {
   "cell_type": "markdown",
   "id": "e9ce70bc-b5fa-4a5e-a27a-086adb9d0930",
   "metadata": {},
   "source": [
    "#### Create table using survey dataset from GitHub"
   ]
  },
  {
   "cell_type": "code",
   "execution_count": null,
   "id": "41ccb0fa-7c18-4c23-a03e-4b68a33e1d6a",
   "metadata": {},
   "outputs": [],
   "source": [
    "survey = Table.read_table('Survey_F24.csv')\n",
    "survey.show(3)"
   ]
  },
  {
   "cell_type": "code",
   "execution_count": null,
   "id": "c4c890fc-9e8e-41b8-bd11-735dc1dc8893",
   "metadata": {},
   "outputs": [],
   "source": [
    "survey.labels"
   ]
  },
  {
   "cell_type": "markdown",
   "id": "fdbeefd1-9826-41ff-869b-392f99e343a1",
   "metadata": {},
   "source": [
    "## Exploring the data"
   ]
  },
  {
   "cell_type": "code",
   "execution_count": null,
   "id": "9ae4d7b0-06a6-492f-9750-8a771dd0bf29",
   "metadata": {},
   "outputs": [],
   "source": [
    "#categorical variable\n",
    "gender_dist = survey.group('Gender')\n",
    "gender_dist"
   ]
  },
  {
   "cell_type": "code",
   "execution_count": null,
   "id": "5bfe6eaf-2106-452a-ba29-bd33022e36a2",
   "metadata": {},
   "outputs": [],
   "source": [
    "gender_dist.barh('Gender')"
   ]
  },
  {
   "cell_type": "markdown",
   "id": "3c3ae445-9bc9-492d-b71e-d81e52b38b9b",
   "metadata": {},
   "source": [
    "### Fix input errors/discrepancies"
   ]
  },
  {
   "cell_type": "code",
   "execution_count": null,
   "id": "a12d4a1c-fa0d-4ef7-9af6-f34aa9b951a6",
   "metadata": {},
   "outputs": [],
   "source": [
    "#Use are.equal_to to replace 'male ' with 'male' in the Gender column\n",
    "\n",
    "male_count = gender_dist.where('Gender', are.equal_to('male')).column('count').sum() + \\\n",
    "             gender_dist.where('Gender', are.equal_to('male ')).column('count').sum()\n",
    "\n",
    "female_count = gender_dist.where('Gender', are.equal_to('female')).column('count').sum()\n",
    "\n",
    "gender_dist_clean = Table().with_columns(\n",
    "    'Gender', ['male', 'female'],\n",
    "    'count', [male_count, female_count]\n",
    ")\n",
    "gender_dist_clean"
   ]
  },
  {
   "cell_type": "code",
   "execution_count": null,
   "id": "3fb3e33c-aa89-4c53-81e7-c82636426c9b",
   "metadata": {},
   "outputs": [],
   "source": [
    "gender_dist_clean.barh('Gender')"
   ]
  },
  {
   "cell_type": "code",
   "execution_count": null,
   "id": "6e3a108b-03e4-48ef-80cc-64dcc13e24f9",
   "metadata": {},
   "outputs": [],
   "source": [
    "# More advanced replace \n",
    "# Define a function to replace 'male ' with 'male'\n",
    "\n",
    "def clean_gender(value):\n",
    "    # Replace spaces inside text\n",
    "    value = value.replace(\" \",\"\")\n",
    "    \n",
    "    # Strip space characters (tabs, returns, and spaces) from the beginning and end of a string\n",
    "    value = value.strip()\n",
    "\n",
    "    # Standardize Text to Lower Case\n",
    "    value = value.lower()\n",
    "\n",
    "    return value\n",
    "\n",
    "# Apply the function to the entire 'Gender' column\n",
    "gender_dist_cleaned = gender_dist.with_column('Gender', gender_dist.apply(clean_gender, 'Gender'))\n",
    "\n",
    "# Group by Gender and sum the counts\n",
    "gender_dist_cleaned = gender_dist_cleaned.group('Gender', sum)\n",
    "\n",
    "# Sort the table by count in descending order\n",
    "gender_dist_cleaned = gender_dist_cleaned.sort('count sum', descending=True)\n",
    "\n",
    "# Create the horizontal bar plot\n",
    "gender_dist_cleaned.barh('Gender')"
   ]
  },
  {
   "cell_type": "markdown",
   "id": "7c6fd297-afc7-442f-99d5-b9f1800f5c75",
   "metadata": {},
   "source": [
    "## Visualizing data"
   ]
  },
  {
   "cell_type": "code",
   "execution_count": null,
   "id": "19aba049-883a-4403-8e57-0c5bd487c388",
   "metadata": {},
   "outputs": [],
   "source": [
    "#numerical data\n",
    "survey.hist('Units taking')"
   ]
  },
  {
   "cell_type": "code",
   "execution_count": null,
   "id": "aa88a198-cbb1-4210-b827-55f457c903f9",
   "metadata": {},
   "outputs": [],
   "source": [
    "eye_color = survey.group('Eye color')\n",
    "eye_color"
   ]
  },
  {
   "cell_type": "code",
   "execution_count": null,
   "id": "273c4337-a9f4-4fda-a9ad-501174280066",
   "metadata": {},
   "outputs": [],
   "source": [
    "eye_color.barh('Eye color')"
   ]
  },
  {
   "cell_type": "code",
   "execution_count": null,
   "id": "a83823da-dd2d-49fa-ab53-a65edc58d029",
   "metadata": {},
   "outputs": [],
   "source": [
    "eye_color.sort('count', descending = True).barh('Eye color')"
   ]
  },
  {
   "cell_type": "code",
   "execution_count": null,
   "id": "bf252878-baae-4685-9a8a-7457e253666a",
   "metadata": {},
   "outputs": [],
   "source": [
    "handed = survey.group(['Handed', 'Pant leg'])\n",
    "handed.labels"
   ]
  },
  {
   "cell_type": "code",
   "execution_count": null,
   "id": "f24c64f2-341b-4f7a-ac49-d2dbe6645291",
   "metadata": {},
   "outputs": [],
   "source": [
    "l_handed= handed.where('Handed', are.equal_to('left')).drop('Handed')\n",
    "l_handed.barh('Pant leg')\n",
    "plt.title ('Pant Leg Preference for Left Handedness')"
   ]
  },
  {
   "cell_type": "code",
   "execution_count": null,
   "id": "b6cb3a29-f8a5-4a9c-8533-470f2cb21a97",
   "metadata": {},
   "outputs": [],
   "source": [
    "r_handed = handed.where('Handed', are.equal_to('right')).drop('Handed')\n",
    "r_handed.barh('Pant leg')\n",
    "plt.title ('Pant Leg Preference for Right Handedness')"
   ]
  },
  {
   "cell_type": "code",
   "execution_count": null,
   "id": "e89ceb4a-b865-4f7f-bc87-9fdee5c7e5d9",
   "metadata": {},
   "outputs": [],
   "source": [
    "# Group by 'Handed' and create a bar for each 'Pant leg' preference\n",
    "handed.pivot('Pant leg', 'Handed', 'count', sum).barh('Handed')\n",
    "\n",
    "plt.title('Pant Leg Preference by Handedness')\n",
    "plt.xlabel('Count')\n",
    "plt.ylabel('Handed')\n",
    "plt.show()"
   ]
  }
 ],
 "metadata": {
  "kernelspec": {
   "display_name": "Python 3 (ipykernel)",
   "language": "python",
   "name": "python3"
  },
  "language_info": {
   "codemirror_mode": {
    "name": "ipython",
    "version": 3
   },
   "file_extension": ".py",
   "mimetype": "text/x-python",
   "name": "python",
   "nbconvert_exporter": "python",
   "pygments_lexer": "ipython3",
   "version": "3.11.10"
  }
 },
 "nbformat": 4,
 "nbformat_minor": 5
}
